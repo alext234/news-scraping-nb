{
 "cells": [
  {
   "cell_type": "code",
   "execution_count": 4,
   "metadata": {},
   "outputs": [],
   "source": [
    "from newscatcher import Newscatcher"
   ]
  },
  {
   "cell_type": "code",
   "execution_count": 5,
   "metadata": {},
   "outputs": [],
   "source": [
    "source = Newscatcher('abc.net.au')"
   ]
  },
  {
   "cell_type": "code",
   "execution_count": 9,
   "metadata": {},
   "outputs": [
    {
     "name": "stdout",
     "output_type": "stream",
     "text": [
      "1.   |  Ian Thorpe says religious discrimination bill is against Australia's notion of a 'fair go'\n",
      "2.   |  Australia thrashes Bangladesh to get back on track in T20 World Cup\n",
      "3.   |  If the Olympics are called off, a cancelled sporting festival will be the least of our worries\n",
      "4.   |  Australian rules great Graham 'Polly' Farmer posthumously diagnosed with CTE\n",
      "5.   |  National soccer coach issues plea to Scott Morrison ahead of Tokyo Olympics\n",
      "6.   |  Maria Sharapova calls time on a glittering, controversial tennis career\n",
      "7.   |  David Warner, Steve Smith make winning return to the scene of the scandal as Aussies seal T20 series\n",
      "8.   |  Nick Kyrgios booed off court after retiring with wrist injury in Acapulco\n",
      "9.   |  Club in Scott Morrison's electorate gets $50,000 for building already built\n",
      "10.  |  Report reveals 60,000 Australians hospitalised due to sport, but some say the rewards outweigh the risks\n",
      "11.  |  'Definitely a regional facility': How North Sydney Council won a $10m pool upgrade grant earmarked for regions\n",
      "12.  |  From the start, the sale of Perth Glory to a buyer working out of a shed in Wales just didn't add up\n",
      "13.  |  Olympics more likely to be cancelled than postponed over coronavirus concerns, top IOC official says\n",
      "14.  |  Marina Go on life as a trailblazing woman in a sporting boardroom\n",
      "15.  |  Shooters call for more women to join a sport in which they often outperform men\n",
      "16.  |  Australia's women's struggles adding spice to Twenty20 World Cup\n",
      "17.  |  Lleyton Hewitt says success of ATP Cup is putting Davis Cup under pressure\n",
      "18.  |  Ambitious bid to sell Perth Glory to a UK-based cryptocurrency group falls over\n",
      "19.  |  Don Furner Sr, inaugural Canberra Raiders coach, dies aged 87\n",
      "20.  |  20kg Black History costume left me too tired to fight Fury, Wilder says\n",
      "21.  |  AFL commentator Kelli Underwood wants women to have more sport broadcasting opportunities\n",
      "22.  |  Boxing will last as long as there's an audience to watch people punch each other\n",
      "23.  |  Australia beats Sri Lanka by five wickets after surviving a scare at the WACA\n",
      "24.  |  Adelaide 500 Supercars race has lowest attendance in 17 years\n",
      "25.  |  Cameron Clyne no longer Rugby Australia chairman, replaced by interim chair Paul McLean\n"
     ]
    }
   ],
   "source": [
    "source.print_headlines()"
   ]
  },
  {
   "cell_type": "code",
   "execution_count": 8,
   "metadata": {},
   "outputs": [
    {
     "name": "stdout",
     "output_type": "stream",
     "text": [
      "Olympics more likely to be cancelled than postponed over coronavirus concerns, top IOC official says\n"
     ]
    }
   ],
   "source": [
    "for headline in source.headlines:\n",
    "    if 'virus' in headline:\n",
    "        print(headline)"
   ]
  },
  {
   "cell_type": "code",
   "execution_count": null,
   "metadata": {},
   "outputs": [],
   "source": []
  },
  {
   "cell_type": "code",
   "execution_count": 10,
   "metadata": {},
   "outputs": [],
   "source": [
    "source = Newscatcher('nytimes.com')"
   ]
  },
  {
   "cell_type": "code",
   "execution_count": 11,
   "metadata": {},
   "outputs": [
    {
     "name": "stdout",
     "output_type": "stream",
     "text": [
      "1.   |  Coronavirus Drives Stocks Down for 6th Day\n",
      "2.   |  Coronavirus Live Updates: New Cases Light Up the Map as Countries Brace for Outbreaks\n",
      "3.   |  Pence Will Control All Coronavirus Messaging From Health Officials\n",
      "4.   |  Most Coronavirus Cases Are Mild. That’s Good and Bad News.\n",
      "5.   |  Japan Shocks Parents by Moving to Close All Schools Over Coronavirus\n",
      "6.   |  Coronavirus Patient in California Was Not Tested for Days\n",
      "7.   |  Why a Top Trump Aide Said ‘We Are Desperate’ for More Immigrants\n",
      "8.   |  Democratic Leaders Willing to Risk Party Damage to Stop Bernie Sanders\n",
      "9.   |  Scarred and Weary, an Afghan Force Wonders: What Is Peace?\n",
      "10.  |  They Killed Their Husbands. Now in Prison, They Feel Free.\n",
      "11.  |  Frustrated Fans Ask the Mets: Can We Venmo You?\n",
      "12.  |  Coronavirus, Democrats, Milwaukee: Your Thursday Briefing\n",
      "13.  |  Coronavirus in New York: the Latest\n",
      "14.  |  The Coronavirus Goes Global\n",
      "15.  |  Trump Emboldened\n",
      "16.  |  California’s Influence in the Presidential Primary\n",
      "17.  |  My Ex-Boyfriend’s New Girlfriend Is Lady Gaga\n",
      "18.  |  Welcome to the Age of Pandemics\n",
      "19.  |  Let’s Call It Trumpvirus\n",
      "20.  |  Eric Schmidt: Silicon Valley Needs the Federal Government\n",
      "21.  |  The Primaries Are Just Dumb\n",
      "22.  |  Mike Bloomberg, the Mayor Who Menaced Blackness\n",
      "23.  |  The Supreme Court Nears the Moment of Truth on Religion\n",
      "24.  |  Trump Exploits Children Exploited by the Sex Trade\n",
      "25.  |  Admit It: You Don’t Know What Will Happen Next\n",
      "26.  |  Muslims Should Disarm Islamophobia With Kindness\n",
      "27.  |  A Royal Instagram Mystery\n",
      "28.  |  The Gig Economy Offers Parents Options and Obstacles\n",
      "29.  |  Molson Coors Shooting in Milwaukee: What We Know\n",
      "30.  |  Push for More Privacy Protections Throws Surveillance Bill Talks Into Disarray\n",
      "31.  |  Second Child in 3 Days Is Killed by a Vehicle in Brooklyn\n",
      "32.  |  Scotland Set to Be First Country to Provide Free Pads and Tampons\n",
      "33.  |  New York City May Crack Down on Grubhub and Other Food Delivery Apps\n",
      "34.  |  As India Counts the Dead, Questions Swirl About Police Response\n",
      "35.  |  Center Stage at Disney After a Career Out of the Spotlight\n",
      "36.  |  Trump’s Plan Backs Israeli Settlements. So Why Are Settlers Unhappy?\n",
      "37.  |  In Delaware, Dams Are Being Removed to Spur Fish Migration\n",
      "38.  |  Phone Hacks Can Happen to Anyone. Here’s How to Protect Yourself.\n",
      "39.  |  I Tried 6 Popular Anti-Snoring Devices. Here’s How They Did.\n",
      "40.  |  Your Credit Card Benefits Just Got Cut. What Do You Do?\n",
      "41.  |  3 Simple Things You Can Do Today to Improve Your Finances\n",
      "42.  |  New Airbnb Listing: a 65-Foot-Tall Landmark Named Lucy the Elephant\n",
      "43.  |  Colleges Invest So ‘What’s the Town Like?’ Gets an Upbeat Answer\n",
      "44.  |  Katie Roiphe Feels Ambivalent About Feeling Ambivalent\n",
      "45.  |  Josh Thomas’s Week: ‘Twitter Has Been a Real Problem’\n",
      "46.  |  Is My Adult Son Too Old for House Rules?\n",
      "47.  |  Down on the Farm That Harvests Metal From Plants\n",
      "48.  |  They Were Infected With the Coronavirus. They Never Showed Signs.\n",
      "49.  |  How Exercise Might Affect Our Food Choices, and Our Weight\n",
      "50.  |  An Orbital Rendezvous Demonstrates a Space Junk Solution\n"
     ]
    }
   ],
   "source": [
    "source.print_headlines()"
   ]
  },
  {
   "cell_type": "code",
   "execution_count": 13,
   "metadata": {},
   "outputs": [
    {
     "name": "stdout",
     "output_type": "stream",
     "text": [
      "Coronavirus Drives Stocks Down for 6th Day\n",
      "Coronavirus Live Updates: New Cases Light Up the Map as Countries Brace for Outbreaks\n",
      "Pence Will Control All Coronavirus Messaging From Health Officials\n",
      "Most Coronavirus Cases Are Mild. That’s Good and Bad News.\n",
      "Japan Shocks Parents by Moving to Close All Schools Over Coronavirus\n",
      "Coronavirus Patient in California Was Not Tested for Days\n",
      "Coronavirus, Democrats, Milwaukee: Your Thursday Briefing\n",
      "Coronavirus in New York: the Latest\n",
      "The Coronavirus Goes Global\n",
      "Let’s Call It Trumpvirus\n",
      "They Were Infected With the Coronavirus. They Never Showed Signs.\n"
     ]
    }
   ],
   "source": [
    "for headline in source.headlines:\n",
    "    if 'virus' in headline:\n",
    "        print(headline)"
   ]
  },
  {
   "cell_type": "code",
   "execution_count": null,
   "metadata": {},
   "outputs": [],
   "source": []
  },
  {
   "cell_type": "code",
   "execution_count": 14,
   "metadata": {},
   "outputs": [],
   "source": [
    "source = Newscatcher('news.google.com')"
   ]
  },
  {
   "cell_type": "code",
   "execution_count": 16,
   "metadata": {},
   "outputs": [
    {
     "name": "stdout",
     "output_type": "stream",
     "text": [
      "1.   |  The 31 wildest lines from Donald Trump's self-congratulatory coronavirus press conference - CNN\n",
      "2.   |  Molson Coors Shooting in Milwaukee: What We Know - The New York Times\n",
      "3.   |  Catherine Pugh, Former Baltimore Mayor, Sentenced To 3 Years In Prison - NPR\n",
      "4.   |  Coronavirus 'could cause 2008-level economic damage' - live updates - The Guardian\n",
      "5.   |  Coronavirus: Japan to close all schools to halt spread - BBC News\n",
      "6.   |  Saudi Arabia temporarily bars entry for pilgrims as coronavirus fears escalate - CNBC\n",
      "7.   |  Nancy Pelosi calls stock market plunge 'disturbing' as she pushes for coronavirus funding - CNBC\n",
      "8.   |  Pence Will Control All Coronavirus Messaging From Health Officials - The New York Times\n",
      "9.   |  Poll: Biden crushing Sanders in South Carolina - POLITICO\n",
      "10.  |  Lake-effect snowstorm could dump 40 inches in parts of New York, unusually late in the winter - Washington Post\n",
      "11.  |  Death toll from Delhi's worst riots in decades rises to 38 - The Guardian\n",
      "12.  |  Coronavirus spreads faster outside China, stoking global fears - ARIRANG NEWS\n",
      "13.  |  China city offers $1,400 reward for virus patients who report to authorities - Reuters\n",
      "14.  |  Climate activists just blocked plans to expand Heathrow, one of the world's biggest airports - CNN\n",
      "15.  |  Stock Market Plunges As Coronavirus Fears Grip Wall Street | Hallie Jackson | MSNBC - MSNBC\n",
      "16.  |  S&P 500 racing to quickest correction since the Great Depression - Financial Times\n",
      "17.  |  Best Buy CEO says lessons it learned from tariffs are helping as it adapts to coronavirus - CNBC\n",
      "18.  |  Playing The Flip Side - Seeking Alpha\n",
      "19.  |  Latest Galaxy Note 10 update brings improved facial recognition and navigation gestures - Android Central\n",
      "20.  |  Reddit CEO: TikTok is ‘fundamentally parasitic’ - TechCrunch\n",
      "21.  |  Comment: Why ‘OS Recovery’ is an obvious solution for iPhone, iPad, and Apple Watch [Video] - 9to5Mac\n",
      "22.  |  You've just dropped cable TV? Here's what a cord-cutter should do next - TechHive\n",
      "23.  |  Taylor Swift Takes Aim at Scooter Braun, Leo DiCaprio, and Kanye in 'The Man' Music Video - The Daily Beast\n",
      "24.  |  Lori Loughlin, Mossimo Giannulli’s lawyer claims FBI directed college admissions scandal mastermind to lie - Fox News\n",
      "25.  |  Dare to say his name: Candyman trailer reveals gore and gentrification - The Guardian\n",
      "26.  |  48 Hours After Apologizing, Placido Domingo Rescinds His Statement - Rolling Stone\n",
      "27.  |  NFL franchise tag window opens: How it impacts the Eagles - Bleeding Green Nation\n",
      "28.  |  Why Ohio State football’s Chase Young will not run the 40-yard dash before NFL Draft 2020 - cleveland.com\n",
      "29.  |  Dear NHL GMs: Don't change a damn thing about the system that propelled a Zamboni driver into the spotlight - Yahoo Sports\n",
      "30.  |  WHO is advising Tokyo 2020 Olympics organizers as coronavirus spreads, official says - CNBC\n",
      "31.  |  China's rover probes deep below the surface of the far side of the Moon - physicsworld.com\n",
      "32.  |  Possible new 'minimoon' discovered orbiting Earth - Space.com\n",
      "33.  |  So, Amphibians Glow. Humans Just Couldn't See It—Until Now - WIRED\n",
      "34.  |  How to see Venus and a crescent moon side-by-side this Thursday - CNN\n",
      "35.  |  Diagnosis Of Coronavirus Patient In California Was Delayed For Days - NPR\n",
      "36.  |  Coronavirus outbreak: China aims to ban wildlife trade even as new deaths reach lowest daily tally - Global News\n",
      "37.  |  Coronavirus: WHO hold news conference on Covid-19 outbreak – as it happened - Guardian News\n",
      "38.  |  Obesity Rate in United States Rises to 42.4 Percent, per CDC Report - Newser\n"
     ]
    }
   ],
   "source": [
    "source.print_headlines()"
   ]
  },
  {
   "cell_type": "code",
   "execution_count": 17,
   "metadata": {},
   "outputs": [
    {
     "name": "stdout",
     "output_type": "stream",
     "text": [
      "The 31 wildest lines from Donald Trump's self-congratulatory coronavirus press conference - CNN\n",
      "Coronavirus 'could cause 2008-level economic damage' - live updates - The Guardian\n",
      "Coronavirus: Japan to close all schools to halt spread - BBC News\n",
      "Saudi Arabia temporarily bars entry for pilgrims as coronavirus fears escalate - CNBC\n",
      "Nancy Pelosi calls stock market plunge 'disturbing' as she pushes for coronavirus funding - CNBC\n",
      "Pence Will Control All Coronavirus Messaging From Health Officials - The New York Times\n",
      "Coronavirus spreads faster outside China, stoking global fears - ARIRANG NEWS\n",
      "China city offers $1,400 reward for virus patients who report to authorities - Reuters\n",
      "Stock Market Plunges As Coronavirus Fears Grip Wall Street | Hallie Jackson | MSNBC - MSNBC\n",
      "Best Buy CEO says lessons it learned from tariffs are helping as it adapts to coronavirus - CNBC\n",
      "WHO is advising Tokyo 2020 Olympics organizers as coronavirus spreads, official says - CNBC\n",
      "Diagnosis Of Coronavirus Patient In California Was Delayed For Days - NPR\n",
      "Coronavirus outbreak: China aims to ban wildlife trade even as new deaths reach lowest daily tally - Global News\n",
      "Coronavirus: WHO hold news conference on Covid-19 outbreak – as it happened - Guardian News\n"
     ]
    }
   ],
   "source": [
    "for headline in source.headlines:\n",
    "    if 'virus' in headline:\n",
    "        print(headline)"
   ]
  },
  {
   "cell_type": "code",
   "execution_count": null,
   "metadata": {},
   "outputs": [],
   "source": []
  }
 ],
 "metadata": {
  "kernelspec": {
   "display_name": "Python 3",
   "language": "python",
   "name": "python3"
  },
  "language_info": {
   "codemirror_mode": {
    "name": "ipython",
    "version": 3
   },
   "file_extension": ".py",
   "mimetype": "text/x-python",
   "name": "python",
   "nbconvert_exporter": "python",
   "pygments_lexer": "ipython3",
   "version": "3.7.6"
  }
 },
 "nbformat": 4,
 "nbformat_minor": 4
}
